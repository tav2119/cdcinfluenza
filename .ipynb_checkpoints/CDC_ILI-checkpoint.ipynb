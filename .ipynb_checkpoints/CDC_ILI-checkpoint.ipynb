{
 "cells": [
  {
   "cell_type": "code",
   "execution_count": 1,
   "metadata": {},
   "outputs": [],
   "source": [
    "import numpy as np\n",
    "import matplotlib.pyplot as plt\n",
    "import pandas as pd\n",
    "\n",
    "from IPython.display import HTML\n",
    "import ipywidgets as wg\n",
    "from IPython.display import display"
   ]
  },
  {
   "cell_type": "code",
   "execution_count": 2,
   "metadata": {
    "scrolled": true
   },
   "outputs": [],
   "source": [
    "# get ili activity data\n",
    "file=\"StateDatabySeason59_58,57,56,55,54,53,52,51,50,49,48.csv\"\n",
    "df1=pd.read_csv(file)\n",
    "df1.drop(columns=[\"URL\", \"WEBSITE\"], inplace=True)\n",
    "df1.WEEKEND = pd.to_datetime(df1.WEEKEND)\n",
    "df1.sort_values(by=['STATENAME','SEASON', \"WEEKEND\"], inplace= True)\n",
    "df1[\"ACTIVITY LEVEL\"] = df1[\"ACTIVITY LEVEL\"].str[6:]\n",
    "df1[\"ACTIVITY LEVEL\"] = df1[\"ACTIVITY LEVEL\"].astype({'ACTIVITY LEVEL': 'int32'})\n",
    "\n",
    "\n",
    "stateList = df1[['STATENAME']].groupby(['STATENAME']).sum().reset_index()['STATENAME'].tolist()\n",
    "seasonList = df1[['SEASON']].groupby(['SEASON']).sum().reset_index()['SEASON'].tolist()\n",
    "#df1.head(6)\n",
    "#df1[(df1.STATENAME==state) & (df1.SEASON==\"2019-20\")].head()\n",
    "\n",
    "def plotILI(data, state):\n",
    "\n",
    "\n",
    "    print(\"CDC ILI Activity for \", state)\n",
    "    #df2 = data[(data.STATENAME == state) & ((data.WEEK >=40) | (data.WEEK <= 20))]\n",
    "    #df2.plot(subplots=True, x=\"WEEKEND\", y=\"ACTIVITY LEVEL\", ylim=(0,14),\n",
    "    #    title=(\"Season:\") + s, legend=False, figsize=(8,6))\n",
    "\n",
    "    for s in seasonList:\n",
    "        df2 = data[(data.STATENAME == state) & (data.SEASON==s) & ((data.WEEK >=40) | (data.WEEK <= 20))]\n",
    "        df2.plot(subplots=True, x=\"WEEKEND\", y=\"ACTIVITY LEVEL\", ylim=(0,14),\n",
    "            title=(\"Season:\") + s, legend=False, figsize=(8,6))\n",
    "\n",
    "#plotILI(df1, 'Texas')\n",
    "        "
   ]
  },
  {
   "cell_type": "code",
   "execution_count": 3,
   "metadata": {
    "scrolled": false
   },
   "outputs": [
    {
     "data": {
      "application/vnd.jupyter.widget-view+json": {
       "model_id": "272089986804496fb27995a7e5c3a865",
       "version_major": 2,
       "version_minor": 0
      },
      "text/plain": [
       "interactive(children=(Dropdown(description='Number:', index=32, options=('Alabama', 'Alaska', 'Arizona', 'Arka…"
      ]
     },
     "metadata": {},
     "output_type": "display_data"
    }
   ],
   "source": [
    "areaSel = wg.Dropdown(\n",
    "    options=stateList,\n",
    "    value='New Mexico',\n",
    "    description='Number:',\n",
    "    disabled=False,\n",
    ")\n",
    "\n",
    "dummy = wg.interact(plotILI, data = wg.fixed(df1), state = areaSel)"
   ]
  },
  {
   "cell_type": "code",
   "execution_count": 4,
   "metadata": {
    "scrolled": true
   },
   "outputs": [],
   "source": [
    "#s = season[-1]\n",
    "#df1[(df1.STATENAME==state) & (df1.SEASON==s)].plot(x=\"WEEKEND\", y=\"ACTIVITY LEVEL\",figsize=(10,5), ylim=(0,14),\n",
    "#                                                     title=(\"Season:\") + s)"
   ]
  },
  {
   "cell_type": "code",
   "execution_count": 10,
   "metadata": {},
   "outputs": [
    {
     "data": {
      "image/png": "[encoded data removed]",
      "text/plain": [
       "<Figure size 432x288 with 1 Axes>"
      ]
     },
     "metadata": {
      "needs_background": "light"
     },
     "output_type": "display_data"
    }
   ],
   "source": [
    "il = []\n",
    "xax = []\n",
    "cnt = 0\n",
    "for s in seasonList:\n",
    "    df2 = df1[(df1.STATENAME == areaSel.value) & (df1.SEASON==s) & ((df1.WEEK >=40) | (df1.WEEK <= 20))]\n",
    "    il.append(np.trapz(df2['ACTIVITY LEVEL'], x=None, dx=1.0, axis=-1))\n",
    "    xax.append(cnt)\n",
    "    cnt += 1\n",
    "    #print(il)\n",
    "    \n",
    "data = [23, 45, 56, 78, 213]\n",
    "plt.bar(xax, il)\n",
    "plt.title(\"Relitive Activity for \" + areaSel.value)\n",
    "plt.show()\n"
   ]
  },
  {
   "cell_type": "code",
   "execution_count": null,
   "metadata": {},
   "outputs": [],
   "source": []
  }
 ],
 "metadata": {
  "kernelspec": {
   "display_name": "Python 3",
   "language": "python",
   "name": "python3"
  },
  "language_info": {
   "codemirror_mode": {
    "name": "ipython",
    "version": 3
   },
   "file_extension": ".py",
   "mimetype": "text/x-python",
   "name": "python",
   "nbconvert_exporter": "python",
   "pygments_lexer": "ipython3",
   "version": "3.6.9"
  }
 },
 "nbformat": 4,
 "nbformat_minor": 4
}
